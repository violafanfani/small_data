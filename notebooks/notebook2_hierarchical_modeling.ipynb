{
 "cells": [
  {
   "cell_type": "markdown",
   "metadata": {},
   "source": [
    "# Hierarchical modeling\n",
    "\n",
    "As we have covered in this morning's lecture, hierarchical models are one of the most attractive applications of Statistical Learning. We are first going to check a very complete example on how to predict the exposure to Radon in Americal households. Try then to solve some exercises yourself.\n",
    "\n",
    "To begin with, check the this notebook: https://docs.pymc.io/notebooks/multilevel_modeling.html, if you want to try it out, this github repo https://github.com/fonnesbeck/multilevel_modeling hosts both the code and the data.\n",
    "\n",
    "\n",
    "You can now try to solve the following problems. I have got the exercises and data from the practical from http://www.bias-project.org.uk/WB2011Man/BHM-2011-practical.pdf. \n",
    "\n",
    "\n"
   ]
  },
  {
   "cell_type": "markdown",
   "metadata": {},
   "source": [
    "## Mortality rates\n",
    "\n",
    "In this question, you will be modelling data on mortality rates following surgery in each of 12\n",
    "hospitals. The data file surgical-dat.txt contains the following columns: hospital_code, alphanumerical code for the hospital, surgeries, the number of operations carried out in each hospital in a 1 year period, deaths, the\n",
    "number of deaths within 30 days of surgery in each hospital.\n",
    "\n",
    "The aim of the analysis is to use surgical mortality rates as an indicator of each hospital’s\n",
    "performance and to identify whether any hospitals appear to be performing unusually well or\n",
    "poorly."
   ]
  },
  {
   "cell_type": "code",
   "execution_count": 5,
   "metadata": {},
   "outputs": [
    {
     "data": {
      "text/html": [
       "<div>\n",
       "<style scoped>\n",
       "    .dataframe tbody tr th:only-of-type {\n",
       "        vertical-align: middle;\n",
       "    }\n",
       "\n",
       "    .dataframe tbody tr th {\n",
       "        vertical-align: top;\n",
       "    }\n",
       "\n",
       "    .dataframe thead th {\n",
       "        text-align: right;\n",
       "    }\n",
       "</style>\n",
       "<table border=\"1\" class=\"dataframe\">\n",
       "  <thead>\n",
       "    <tr style=\"text-align: right;\">\n",
       "      <th></th>\n",
       "      <th>hospital_code</th>\n",
       "      <th>surgeries</th>\n",
       "      <th>deaths</th>\n",
       "    </tr>\n",
       "  </thead>\n",
       "  <tbody>\n",
       "    <tr>\n",
       "      <th>0</th>\n",
       "      <td>HC1</td>\n",
       "      <td>47</td>\n",
       "      <td>0</td>\n",
       "    </tr>\n",
       "    <tr>\n",
       "      <th>1</th>\n",
       "      <td>HC30</td>\n",
       "      <td>148</td>\n",
       "      <td>18</td>\n",
       "    </tr>\n",
       "    <tr>\n",
       "      <th>2</th>\n",
       "      <td>HC20</td>\n",
       "      <td>119</td>\n",
       "      <td>8</td>\n",
       "    </tr>\n",
       "    <tr>\n",
       "      <th>3</th>\n",
       "      <td>HC19</td>\n",
       "      <td>810</td>\n",
       "      <td>46</td>\n",
       "    </tr>\n",
       "    <tr>\n",
       "      <th>4</th>\n",
       "      <td>HC2</td>\n",
       "      <td>211</td>\n",
       "      <td>8</td>\n",
       "    </tr>\n",
       "    <tr>\n",
       "      <th>5</th>\n",
       "      <td>HC39</td>\n",
       "      <td>196</td>\n",
       "      <td>13</td>\n",
       "    </tr>\n",
       "    <tr>\n",
       "      <th>6</th>\n",
       "      <td>HC15</td>\n",
       "      <td>148</td>\n",
       "      <td>9</td>\n",
       "    </tr>\n",
       "    <tr>\n",
       "      <th>7</th>\n",
       "      <td>HC22</td>\n",
       "      <td>215</td>\n",
       "      <td>31</td>\n",
       "    </tr>\n",
       "    <tr>\n",
       "      <th>8</th>\n",
       "      <td>HC4</td>\n",
       "      <td>207</td>\n",
       "      <td>14</td>\n",
       "    </tr>\n",
       "    <tr>\n",
       "      <th>9</th>\n",
       "      <td>HC5</td>\n",
       "      <td>97</td>\n",
       "      <td>8</td>\n",
       "    </tr>\n",
       "    <tr>\n",
       "      <th>10</th>\n",
       "      <td>HC6</td>\n",
       "      <td>256</td>\n",
       "      <td>29</td>\n",
       "    </tr>\n",
       "    <tr>\n",
       "      <th>11</th>\n",
       "      <td>HC14</td>\n",
       "      <td>360</td>\n",
       "      <td>24</td>\n",
       "    </tr>\n",
       "  </tbody>\n",
       "</table>\n",
       "</div>"
      ],
      "text/plain": [
       "   hospital_code  surgeries  deaths\n",
       "0            HC1         47       0\n",
       "1           HC30        148      18\n",
       "2           HC20        119       8\n",
       "3           HC19        810      46\n",
       "4           HC2         211       8\n",
       "5           HC39        196      13\n",
       "6           HC15        148       9\n",
       "7           HC22        215      31\n",
       "8            HC4        207      14\n",
       "9            HC5         97       8\n",
       "10           HC6        256      29\n",
       "11          HC14        360      24"
      ]
     },
     "execution_count": 5,
     "metadata": {},
     "output_type": "execute_result"
    }
   ],
   "source": [
    "import pandas as pd\n",
    "import pymc3 as pm\n",
    "import numpy as np\n",
    "import seaborn as sns\n",
    "# Open the table\n",
    "\n",
    "with open('surgical-dat.txt', 'r') as f:\n",
    "    data = pd.read_csv(f)\n",
    "\n",
    "data"
   ]
  },
  {
   "cell_type": "code",
   "execution_count": 6,
   "metadata": {},
   "outputs": [],
   "source": [
    "# Build the model"
   ]
  },
  {
   "cell_type": "code",
   "execution_count": 7,
   "metadata": {},
   "outputs": [],
   "source": [
    "# Check the results"
   ]
  },
  {
   "cell_type": "code",
   "execution_count": 8,
   "metadata": {},
   "outputs": [],
   "source": [
    "# Which hospital is more reliable? To what extent?"
   ]
  },
  {
   "cell_type": "markdown",
   "metadata": {},
   "source": [
    "## Patient treatment\n",
    "\n",
    "This example uses (simulated) data from a clinical trial comparing two alternative treatments\n",
    "for HIV-infected individuals. 80 patients with HIV infection were randomly assigned to one of\n",
    "2 treatment groups (drug = 0 (didanosine, ddI) and drug = 1 (zalcitabine, ddC)). CD4 counts\n",
    "were recorded at study entry (time t = 0) and again at 2, 6 and 12 months. An indicator of\n",
    "whether the patient had already been diagnosed with AIDS at study entry was also recorded\n",
    "(AIDS = 1 if patient diagnosed with AIDS, and 0 otherwise)."
   ]
  },
  {
   "cell_type": "code",
   "execution_count": 9,
   "metadata": {},
   "outputs": [
    {
     "data": {
      "text/html": [
       "<div>\n",
       "<style scoped>\n",
       "    .dataframe tbody tr th:only-of-type {\n",
       "        vertical-align: middle;\n",
       "    }\n",
       "\n",
       "    .dataframe tbody tr th {\n",
       "        vertical-align: top;\n",
       "    }\n",
       "\n",
       "    .dataframe thead th {\n",
       "        text-align: right;\n",
       "    }\n",
       "</style>\n",
       "<table border=\"1\" class=\"dataframe\">\n",
       "  <thead>\n",
       "    <tr style=\"text-align: right;\">\n",
       "      <th></th>\n",
       "      <th>CD4_1</th>\n",
       "      <th>CD4_2</th>\n",
       "      <th>CD4_3</th>\n",
       "      <th>CD4_4</th>\n",
       "      <th>drug</th>\n",
       "      <th>AIDS</th>\n",
       "    </tr>\n",
       "  </thead>\n",
       "  <tbody>\n",
       "    <tr>\n",
       "      <th>0</th>\n",
       "      <td>4.861</td>\n",
       "      <td>5.074</td>\n",
       "      <td>4.522</td>\n",
       "      <td>4.2110</td>\n",
       "      <td>0</td>\n",
       "      <td>1</td>\n",
       "    </tr>\n",
       "    <tr>\n",
       "      <th>1</th>\n",
       "      <td>8.390</td>\n",
       "      <td>7.577</td>\n",
       "      <td>7.644</td>\n",
       "      <td>7.8710</td>\n",
       "      <td>1</td>\n",
       "      <td>0</td>\n",
       "    </tr>\n",
       "    <tr>\n",
       "      <th>2</th>\n",
       "      <td>5.020</td>\n",
       "      <td>5.329</td>\n",
       "      <td>4.620</td>\n",
       "      <td>4.2840</td>\n",
       "      <td>1</td>\n",
       "      <td>1</td>\n",
       "    </tr>\n",
       "    <tr>\n",
       "      <th>3</th>\n",
       "      <td>1.669</td>\n",
       "      <td>1.934</td>\n",
       "      <td>1.781</td>\n",
       "      <td>0.9785</td>\n",
       "      <td>0</td>\n",
       "      <td>1</td>\n",
       "    </tr>\n",
       "    <tr>\n",
       "      <th>4</th>\n",
       "      <td>5.875</td>\n",
       "      <td>5.499</td>\n",
       "      <td>5.475</td>\n",
       "      <td>5.6970</td>\n",
       "      <td>1</td>\n",
       "      <td>1</td>\n",
       "    </tr>\n",
       "  </tbody>\n",
       "</table>\n",
       "</div>"
      ],
      "text/plain": [
       "   CD4_1  CD4_2  CD4_3   CD4_4  drug  AIDS\n",
       "0  4.861  5.074  4.522  4.2110     0     1\n",
       "1  8.390  7.577  7.644  7.8710     1     0\n",
       "2  5.020  5.329  4.620  4.2840     1     1\n",
       "3  1.669  1.934  1.781  0.9785     0     1\n",
       "4  5.875  5.499  5.475  5.6970     1     1"
      ]
     },
     "execution_count": 9,
     "metadata": {},
     "output_type": "execute_result"
    }
   ],
   "source": [
    "with open('cd4-dat.csv','r') as f:\n",
    "    cd4=pd.read_csv(f)\n",
    "\n",
    "cd4.head()"
   ]
  },
  {
   "cell_type": "code",
   "execution_count": 10,
   "metadata": {},
   "outputs": [],
   "source": [
    "# Run the model and monitor the slope and intercept parameters, the regression\n",
    "# coefficients for the effects of treatment and AIDS, and the residual error variance.\n",
    "\n",
    "# HINT: Use the unpooled estimator with a GLM"
   ]
  },
  {
   "cell_type": "code",
   "execution_count": 11,
   "metadata": {},
   "outputs": [],
   "source": [
    "# Modify your code for the previous model to include a random intercept and a random\n",
    "# slope (i.e. time coefficient) for each patient. Treat the coefficients for the effects of drug\n",
    "# treatment and AIDS as fixed (i.e. not random effects) as before."
   ]
  }
 ],
 "metadata": {
  "kernelspec": {
   "display_name": "Python 3",
   "language": "python",
   "name": "python3"
  },
  "language_info": {
   "codemirror_mode": {
    "name": "ipython",
    "version": 3
   },
   "file_extension": ".py",
   "mimetype": "text/x-python",
   "name": "python",
   "nbconvert_exporter": "python",
   "pygments_lexer": "ipython3",
   "version": "3.7.3"
  }
 },
 "nbformat": 4,
 "nbformat_minor": 2
}
