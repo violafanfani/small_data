{
 "cells": [
  {
   "cell_type": "markdown",
   "metadata": {},
   "source": [
    "# Hierarchical modeling\n",
    "\n",
    "To begin with, check the this notebook: https://docs.pymc.io/notebooks/multilevel_modeling.html, if you want to try it out, this github repo https://github.com/fonnesbeck/multilevel_modeling hosts both the code and the data.\n",
    "\n",
    "\n",
    "\n",
    "You can now try to solve the following problems. I have got the exercises and data from the practical from http://www.bias-project.org.uk/WB2011Man/BHM-2011-practical.pdf. \n",
    "\n",
    "\n"
   ]
  }
 ],
 "metadata": {
  "kernelspec": {
   "display_name": "Python 3",
   "language": "python",
   "name": "python3"
  },
  "language_info": {
   "codemirror_mode": {
    "name": "ipython",
    "version": 3
   },
   "file_extension": ".py",
   "mimetype": "text/x-python",
   "name": "python",
   "nbconvert_exporter": "python",
   "pygments_lexer": "ipython3",
   "version": "3.7.3"
  }
 },
 "nbformat": 4,
 "nbformat_minor": 2
}
